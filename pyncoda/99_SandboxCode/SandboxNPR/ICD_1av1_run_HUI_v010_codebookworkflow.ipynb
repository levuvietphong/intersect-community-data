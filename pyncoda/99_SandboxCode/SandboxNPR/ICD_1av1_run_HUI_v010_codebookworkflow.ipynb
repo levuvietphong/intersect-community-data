{
 "cells": [
  {
   "cell_type": "markdown",
   "metadata": {
    "id": "nDetVnGnoHR-"
   },
   "source": [
    "# Housing Unit Inventory Workflow\n",
    "\n",
    "Functions to obtain and clean data required for the v0.1.0 Housing Unit Inventory. \n",
    "The workflow  replicates the original alpha version \n",
    "of Housing Unit Inventory workflow in Python using Census API. \n",
    "\n",
    "The workflow also expands the Housing Unit Inventory to include\n",
    "household income based on family and non-family income distributions \n",
    "by race and ethnicity.\n",
    "\n",
    "For the original Alpha Release of the housing unit inventory \n",
    "process and example applications see:\n",
    "\n",
    "Rosenheim, Nathanael (2021) “Detailed Household and Housing Unit Characteristics: \n",
    "Alpha Release of Housing Unit Inventories.” DesignSafe-CI. \n",
    "https://doi.org/10.17603/ds2-jwf6-s535.\n",
    "\n",
    "The 2010 Census Data provides detailed household and housing unit, \n",
    "level characteristics at the census block level. \n",
    "\n",
    "The 2012 5-year American Community Survey provides detailed \n",
    "household level characteristics at the census tract level."
   ]
  },
  {
   "cell_type": "markdown",
   "metadata": {},
   "source": [
    "## Description of Program\n",
    "- program:    ICD_1av1_run_HUI_v010_workflow\n",
    "- task:       Obtain and clean data for Housing Unit Inventory.\n",
    "- See github commits for description of program updates\n",
    "- Current Version:    2022-02-01\n",
    "- project:    Interdependent Networked Community Resilience Modeling Environment (IN-CORE)'}, Subtask 5.2 - Social Institutions\n",
    "- funding:\t  NIST Financial Assistance Award Numbers: 70NANB15H044 and 70NANB20H008 \n",
    "- author:     Nathanael Rosenheim\n",
    "\n",
    "- Suggested Citation:\n",
    "Rosenheim, N. (2022)"
   ]
  },
  {
   "cell_type": "markdown",
   "metadata": {},
   "source": [
    "### Setup notebook environment to access Cloned Github Package\n",
    "This notebook uses packages that are in development. The packages are available at:\n",
    "\n",
    "https://github.com/npr99/\n",
    "\n",
    "To replicate this notebook Clone the Github Package to a folder that is a sibling of this notebook.\n",
    "\n",
    "To access the sibling package you will need to append the parent directory ('..') to the system path list."
   ]
  },
  {
   "cell_type": "code",
   "execution_count": 23,
   "metadata": {
    "id": "ub0JUKWHoHSE"
   },
   "outputs": [],
   "source": [
    "import numpy as np\n",
    "import pandas as pd\n",
    "import os # For saving output to path\n",
    "import sys"
   ]
  },
  {
   "cell_type": "code",
   "execution_count": 24,
   "metadata": {},
   "outputs": [],
   "source": [
    "# to access new package that is in a sibling folder - the system path list needs to include the parent folder (..)'},\n",
    "# append the path of the directory that includes the github repository.\n",
    "github_code_path  = \"..\\\\github_com\\\\npr99\\\\Population_Inventory\"\n",
    "sys.path.append(github_code_path)"
   ]
  },
  {
   "cell_type": "code",
   "execution_count": 25,
   "metadata": {},
   "outputs": [
    {
     "data": {
      "text/plain": [
       "'g:\\\\Shared drives\\\\HRRC_IN-CORE\\\\Tasks\\\\M5.2-01 Pop inventory\\\\WorkNPR'"
      ]
     },
     "execution_count": 25,
     "metadata": {},
     "output_type": "execute_result"
    }
   ],
   "source": [
    "os.getcwd()"
   ]
  },
  {
   "cell_type": "code",
   "execution_count": 26,
   "metadata": {},
   "outputs": [
    {
     "name": "stdout",
     "output_type": "stream",
     "text": [
      "The autoreload extension is already loaded. To reload it, use:\n",
      "  %reload_ext autoreload\n"
     ]
    }
   ],
   "source": [
    "# To reload submodules need to use this magic command to set autoreload on\n",
    "%load_ext autoreload\n",
    "%autoreload 2\n",
    "# open, read, and execute python program with reusable commands\n",
    "from pyincore_data_addons.ICD00b_directory_design import directory_design\n",
    "from pyincore_data_addons.ICD06c_Codebook import *\n",
    "from pyincore_data_addons.ICD06b_Figures import *\n",
    "\n",
    "from pyincore_data_addons.SourceData.api_census_gov.acg_00e_incore_huiv010 \\\n",
    "    import incore_v010_DataStructure"
   ]
  },
  {
   "cell_type": "code",
   "execution_count": 27,
   "metadata": {},
   "outputs": [],
   "source": [
    "version = '0.1.0'\n",
    "version_text = 'v0-1-0'\n",
    "\n",
    "# Save Outputfolder - due to long folder name paths output saved to folder with shorter name\n",
    "# files from this program will be saved with the program name - \n",
    "# this helps to follow the overall workflow\n",
    "outputfolder = \"ICD_workflow_2022-02-01\"\n",
    "# Make directory to save output\n",
    "if not os.path.exists(outputfolder):\n",
    "    os.mkdir(outputfolder)\n",
    "\n",
    "communities = {'Lumberton_NC' : {\n",
    "                    'community_name' : 'Lumberton, NC',\n",
    "                    'counties' : { \n",
    "                        1 : {'FIPS Code' : '37155', 'Name' : 'Robeson County, NC'}}},                   \n",
    "                }\n",
    "communities = {'Shelby_TN' : {\n",
    "                    'community_name' : 'Memphis, TN',\n",
    "                    'counties' : { \n",
    "                        1 : {'FIPS Code' : '47157', 'Name' : 'Shelby County, TN'}}},                   \n",
    "                }\n",
    "communities = {'Lumberton_NC' : {\n",
    "                    'community_name' : 'Lumberton, NC',\n",
    "                    'counties' : { \n",
    "                        1 : {'FIPS Code' : '37155', 'Name' : 'Robeson County, NC'}}},                   \n",
    "                }\n",
    "# Set random seed for reproducibility\n",
    "seed = 9876\n",
    "basevintage = 2010\n"
   ]
  },
  {
   "cell_type": "code",
   "execution_count": 28,
   "metadata": {},
   "outputs": [
    {
     "name": "stdout",
     "output_type": "stream",
     "text": [
      "Setting up Housing Unit Inventory for Lumberton, NC\n",
      "Robeson County, NC : county FIPS Code 37155\n",
      "Checking huid Data Type\n",
      "   Current type: <class 'pandas.core.series.Series'> Expected type <class 'str'>\n",
      "Checking blockid Data Type\n",
      "   Current type: <class 'pandas.core.series.Series'> Expected type <class 'str'>\n",
      "Checking tractid Data Type\n",
      "   Current type: <class 'pandas.core.series.Series'> Expected type <class 'str'>\n",
      "Checking bgid Data Type\n",
      "   Current type: <class 'pandas.core.series.Series'> Expected type <class 'str'>\n",
      "Checking FIPScounty Data Type\n",
      "   Current type: <class 'pandas.core.series.Series'> Expected type <class 'str'>\n",
      "Checking numprec Data Type\n",
      "   Current type: <class 'pandas.core.series.Series'> Expected type <class 'int'>\n",
      "Checking ownershp Data Type\n",
      "   Current type: <class 'pandas.core.series.Series'> Expected type category\n",
      "Checking race Data Type\n",
      "   Current type: <class 'pandas.core.series.Series'> Expected type category\n",
      "Checking hispan Data Type\n",
      "   Current type: <class 'pandas.core.series.Series'> Expected type category\n",
      "Checking vacancy Data Type\n",
      "   Current type: <class 'pandas.core.series.Series'> Expected type category\n",
      "Checking gqtype Data Type\n",
      "   Current type: <class 'pandas.core.series.Series'> Expected type category\n",
      "Checking incomegroup Data Type\n",
      "   Current type: <class 'pandas.core.series.Series'> Expected type category\n",
      "Checking randincome Data Type\n",
      "   Current type: <class 'pandas.core.series.Series'> Expected type <class 'float'>\n",
      "Checking hhinc Data Type\n",
      "   Current type: <class 'pandas.core.series.Series'> Expected type category\n"
     ]
    }
   ],
   "source": [
    "for community in communities.keys():\n",
    "    print(\"Setting up Housing Unit Inventory for\",communities[community]['community_name'])\n",
    "    for county in communities[community]['counties'].keys():\n",
    "        state_county = communities[community]['counties'][county]['FIPS Code']\n",
    "        state_county_name  = communities[community]['counties'][county]['Name']\n",
    "        print(state_county_name,': county FIPS Code',state_county)\n",
    "    \n",
    "        outputfolders = directory_design(state_county_name = state_county_name,\n",
    "                                            outputfolder = outputfolder)\n",
    "                                            \n",
    "\n",
    "    #Save results for community name\n",
    "    output_filename = f'hui_v0-1-0_{community}_{basevintage}_rs{seed}'\n",
    "    csv_filepath = outputfolders['top']+\"/\"+output_filename+'.csv'\n",
    "    savefile = sys.path[0]+\"/\"+csv_filepath\n",
    "    hui_incore_df = pd.read_csv(savefile)\n",
    "\n",
    "    incore_columns = incore_v010_DataStructure\n",
    "    # Loop through columns to set type\n",
    "    for incore_col in incore_columns.keys():    \n",
    "        # Set variable type\n",
    "        var_type = incore_columns[incore_col]['pyType']\n",
    "        print('Checking',incore_col,'Data Type')\n",
    "        current_type = type(hui_incore_df[incore_col])\n",
    "        print('   Current type:',current_type,'Expected type',var_type)\n",
    "        hui_incore_df[incore_col] = hui_incore_df[incore_col].astype(var_type)"
   ]
  },
  {
   "cell_type": "code",
   "execution_count": 29,
   "metadata": {},
   "outputs": [
    {
     "data": {
      "text/html": [
       "<div>\n",
       "<style scoped>\n",
       "    .dataframe tbody tr th:only-of-type {\n",
       "        vertical-align: middle;\n",
       "    }\n",
       "\n",
       "    .dataframe tbody tr th {\n",
       "        vertical-align: top;\n",
       "    }\n",
       "\n",
       "    .dataframe thead th {\n",
       "        text-align: right;\n",
       "    }\n",
       "</style>\n",
       "<table border=\"1\" class=\"dataframe\">\n",
       "  <thead>\n",
       "    <tr style=\"text-align: right;\">\n",
       "      <th></th>\n",
       "      <th>huid</th>\n",
       "      <th>blockid</th>\n",
       "      <th>tractid</th>\n",
       "      <th>bgid</th>\n",
       "      <th>FIPScounty</th>\n",
       "      <th>numprec</th>\n",
       "      <th>ownershp</th>\n",
       "      <th>race</th>\n",
       "      <th>hispan</th>\n",
       "      <th>vacancy</th>\n",
       "      <th>gqtype</th>\n",
       "      <th>incomegroup</th>\n",
       "      <th>randincome</th>\n",
       "      <th>hhinc</th>\n",
       "    </tr>\n",
       "  </thead>\n",
       "  <tbody>\n",
       "    <tr>\n",
       "      <th>0</th>\n",
       "      <td>B371559601011003H001</td>\n",
       "      <td>371559601011003</td>\n",
       "      <td>37155960101</td>\n",
       "      <td>371559601011</td>\n",
       "      <td>37155</td>\n",
       "      <td>1</td>\n",
       "      <td>1.0</td>\n",
       "      <td>1.0</td>\n",
       "      <td>0.0</td>\n",
       "      <td>0.0</td>\n",
       "      <td>0.0</td>\n",
       "      <td>1.0</td>\n",
       "      <td>5947.0</td>\n",
       "      <td>1.0</td>\n",
       "    </tr>\n",
       "    <tr>\n",
       "      <th>1</th>\n",
       "      <td>B371559601011005H001</td>\n",
       "      <td>371559601011005</td>\n",
       "      <td>37155960101</td>\n",
       "      <td>371559601011</td>\n",
       "      <td>37155</td>\n",
       "      <td>1</td>\n",
       "      <td>1.0</td>\n",
       "      <td>1.0</td>\n",
       "      <td>0.0</td>\n",
       "      <td>0.0</td>\n",
       "      <td>0.0</td>\n",
       "      <td>1.0</td>\n",
       "      <td>550.0</td>\n",
       "      <td>1.0</td>\n",
       "    </tr>\n",
       "    <tr>\n",
       "      <th>2</th>\n",
       "      <td>B371559601011006H001</td>\n",
       "      <td>371559601011006</td>\n",
       "      <td>37155960101</td>\n",
       "      <td>371559601011</td>\n",
       "      <td>37155</td>\n",
       "      <td>1</td>\n",
       "      <td>1.0</td>\n",
       "      <td>1.0</td>\n",
       "      <td>0.0</td>\n",
       "      <td>0.0</td>\n",
       "      <td>0.0</td>\n",
       "      <td>1.0</td>\n",
       "      <td>6115.0</td>\n",
       "      <td>1.0</td>\n",
       "    </tr>\n",
       "    <tr>\n",
       "      <th>3</th>\n",
       "      <td>B371559601011006H002</td>\n",
       "      <td>371559601011006</td>\n",
       "      <td>37155960101</td>\n",
       "      <td>371559601011</td>\n",
       "      <td>37155</td>\n",
       "      <td>1</td>\n",
       "      <td>1.0</td>\n",
       "      <td>1.0</td>\n",
       "      <td>0.0</td>\n",
       "      <td>0.0</td>\n",
       "      <td>0.0</td>\n",
       "      <td>5.0</td>\n",
       "      <td>26415.0</td>\n",
       "      <td>3.0</td>\n",
       "    </tr>\n",
       "    <tr>\n",
       "      <th>4</th>\n",
       "      <td>B371559601011007H006</td>\n",
       "      <td>371559601011007</td>\n",
       "      <td>37155960101</td>\n",
       "      <td>371559601011</td>\n",
       "      <td>37155</td>\n",
       "      <td>1</td>\n",
       "      <td>2.0</td>\n",
       "      <td>1.0</td>\n",
       "      <td>0.0</td>\n",
       "      <td>0.0</td>\n",
       "      <td>0.0</td>\n",
       "      <td>5.0</td>\n",
       "      <td>28058.0</td>\n",
       "      <td>3.0</td>\n",
       "    </tr>\n",
       "  </tbody>\n",
       "</table>\n",
       "</div>"
      ],
      "text/plain": [
       "                   huid          blockid      tractid          bgid  \\\n",
       "0  B371559601011003H001  371559601011003  37155960101  371559601011   \n",
       "1  B371559601011005H001  371559601011005  37155960101  371559601011   \n",
       "2  B371559601011006H001  371559601011006  37155960101  371559601011   \n",
       "3  B371559601011006H002  371559601011006  37155960101  371559601011   \n",
       "4  B371559601011007H006  371559601011007  37155960101  371559601011   \n",
       "\n",
       "  FIPScounty  numprec ownershp race hispan vacancy gqtype incomegroup  \\\n",
       "0      37155        1      1.0  1.0    0.0     0.0    0.0         1.0   \n",
       "1      37155        1      1.0  1.0    0.0     0.0    0.0         1.0   \n",
       "2      37155        1      1.0  1.0    0.0     0.0    0.0         1.0   \n",
       "3      37155        1      1.0  1.0    0.0     0.0    0.0         5.0   \n",
       "4      37155        1      2.0  1.0    0.0     0.0    0.0         5.0   \n",
       "\n",
       "   randincome hhinc  \n",
       "0      5947.0   1.0  \n",
       "1       550.0   1.0  \n",
       "2      6115.0   1.0  \n",
       "3     26415.0   3.0  \n",
       "4     28058.0   3.0  "
      ]
     },
     "execution_count": 29,
     "metadata": {},
     "output_type": "execute_result"
    }
   ],
   "source": [
    "hui_incore_df.head()"
   ]
  },
  {
   "cell_type": "code",
   "execution_count": 30,
   "metadata": {},
   "outputs": [
    {
     "data": {
      "image/png": "[encoded data removed]",
      "text/plain": [
       "<Figure size 412x360 with 1 Axes>"
      ]
     },
     "metadata": {
      "needs_background": "light"
     },
     "output_type": "display_data"
    }
   ],
   "source": [
    "from pyincore_data_addons.ICD06b_Figures import income_distribution\n",
    "# Explore data\n",
    "for by_var in [\"race\"]:\n",
    "    income_by_race = income_distribution(input_df = hui_incore_df,\n",
    "                    variable = \"randincome\",\n",
    "                    by_variable = by_var,\n",
    "                    datastructure = incore_v010_DataStructure,\n",
    "                    communities= communities,\n",
    "                    community = community,\n",
    "                    year = basevintage,\n",
    "                    outputfolders = outputfolders)"
   ]
  },
  {
   "cell_type": "code",
   "execution_count": 31,
   "metadata": {},
   "outputs": [],
   "source": [
    "sourcedata_filepath = \"pyincore_data_addons\\\\SourceData\\\\api_census_gov\"\n",
    "keyterms_filepath = github_code_path+'\\\\'+sourcedata_filepath+ \\\n",
    "        '\\\\'+\"acg_00a_keyterms.md\"\n",
    "\n",
    "projectoverview_filepath = github_code_path+'\\\\pyincore_data_addons\\\\'+ \\\n",
    "        \"ICD00a_projectoverview.md\"\n"
   ]
  },
  {
   "cell_type": "code",
   "execution_count": 32,
   "metadata": {},
   "outputs": [],
   "source": [
    "# Create PDF Codebook\n",
    "pdfcodebook = codebook(input_df = hui_incore_df,\n",
    "        datastructure = incore_v010_DataStructure,\n",
    "        projectoverview = projectoverview_filepath,\n",
    "        keyterms = keyterms_filepath,\n",
    "        communities = communities,\n",
    "        community = community,\n",
    "        year = basevintage,\n",
    "        output_filename = output_filename,\n",
    "        outputfolders = outputfolders,\n",
    "        image_path = 'IN-CORE_HRRC_CodebookBanner.png')"
   ]
  },
  {
   "cell_type": "code",
   "execution_count": 34,
   "metadata": {},
   "outputs": [
    {
     "name": "stdout",
     "output_type": "stream",
     "text": [
      "Housing Unit Inventory Codebook for Robeson County, NC, 2010\n",
      "\n",
      "huid\n",
      "huid: Housing Unit ID\n",
      "blockid\n",
      "blockid: Block ID\n",
      "tractid\n",
      "tractid: 2010 Census Tract ID\n",
      "bgid\n",
      "bgid: 2010 Census Block Group ID\n",
      "FIPScounty\n",
      "FIPScounty: County FIPS Code\n",
      "numprec\n",
      "numprec: Number of person records\n",
      "ownershp\n",
      "ownershp: Tenure Status\n",
      "6\n",
      "ownershp: Tenure Status - Categorical codes, labels and frequencies\n",
      "race\n",
      "race: Race of householder\n",
      "6\n",
      "race: Race of householder - Categorical codes, labels and frequencies\n",
      "hispan\n",
      "hispan: Hispanic Householder\n",
      "6\n",
      "hispan: Hispanic Householder - Categorical codes, labels and frequencies\n",
      "vacancy\n",
      "vacancy: Vacancy Type\n",
      "6\n",
      "vacancy: Vacancy Type - Categorical codes, labels and frequencies\n",
      "gqtype\n",
      "gqtype: Group Quarters Type\n",
      "6\n",
      "gqtype: Group Quarters Type - Categorical codes, labels and frequencies\n",
      "incomegroup\n",
      "incomegroup: Detailed Household Income Group\n",
      "6\n",
      "incomegroup: Detailed Household Income Group - Categorical codes, labels and frequencies\n",
      "randincome\n",
      "randincome: Random household income\n",
      "hhinc\n",
      "hhinc: Five Household Income Groups\n",
      "6\n",
      "hhinc: Five Household Income Groups - Categorical codes, labels and frequencies\n",
      "ICD_workflow_2022-02-01/RobesonCounty_NC/06_Explore/randincome_by_race37155.png\n"
     ]
    },
    {
     "name": "stderr",
     "output_type": "stream",
     "text": [
      "INFO - fpdf.py:_substitute_page_number() - Substitution of '{nb}' was performed in the document\n"
     ]
    },
    {
     "name": "stdout",
     "output_type": "stream",
     "text": [
      "Saving codebook to ICD_workflow_2022-02-01/RobesonCounty_NC/hui_v0-1-0_Lumberton_NC_2010_rs9876.pdf\n"
     ]
    }
   ],
   "source": [
    "pdfcodebook.create_codebook()"
   ]
  }
 ],
 "metadata": {
  "colab": {
   "name": "IN-CORE_1dv1_Lumberton_CleanLODESdata_2021-05-06.ipynb",
   "provenance": []
  },
  "interpreter": {
   "hash": "5c58ce784293a07115a9dfc7f62fce3bb2b505f44554599caa745606e0faef66"
  },
  "kernelspec": {
   "display_name": "Python 3 (ipykernel)",
   "language": "python",
   "name": "python3"
  },
  "language_info": {
   "codemirror_mode": {
    "name": "ipython",
    "version": 3
   },
   "file_extension": ".py",
   "mimetype": "text/x-python",
   "name": "python",
   "nbconvert_exporter": "python",
   "pygments_lexer": "ipython3",
   "version": "3.8.12"
  }
 },
 "nbformat": 4,
 "nbformat_minor": 1
}
